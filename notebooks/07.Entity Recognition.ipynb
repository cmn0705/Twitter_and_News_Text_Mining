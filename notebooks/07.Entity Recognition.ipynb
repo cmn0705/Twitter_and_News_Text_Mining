{
 "cells": [
  {
   "source": [
    "# Entity Recognition"
   ],
   "cell_type": "markdown",
   "metadata": {}
  },
  {
   "cell_type": "code",
   "execution_count": 1,
   "metadata": {},
   "outputs": [
    {
     "output_type": "execute_result",
     "data": {
      "text/plain": [
       "     Unnamed: 0  Unnamed: 0.1  index                      created_at  \\\n",
       "219         219           227  251.0  Tue Apr 27 23:58:10 +0000 2021   \n",
       "220         220           228  252.0  Tue Apr 27 23:58:10 +0000 2021   \n",
       "221         221           229  253.0  Tue Apr 27 23:58:08 +0000 2021   \n",
       "222         222           230  254.0  Tue Apr 27 23:58:04 +0000 2021   \n",
       "223         223           231  255.0  Tue Apr 27 23:58:04 +0000 2021   \n",
       "\n",
       "               id                                               text language  \\\n",
       "219  1.387194e+18  Sometimes you get a third chance   Love s Thir...       en   \n",
       "220  1.387194e+18  Check out this Amazon deal  The Art of My Neig...       en   \n",
       "221  1.387194e+18    First Steps  How Upright Walking Made Us Hum...       en   \n",
       "222  1.387194e+18    The First Day of Spring by Nancy Tucker    B...       en   \n",
       "223  1.387194e+18  ad              off     Galaxy Star Projector ...       en   \n",
       "\n",
       "                                            shingleSet  \\\n",
       "219  {1975646848, 3508350977, 2277555713, 187718236...   \n",
       "220  {622155522, 3082850439, 1706091273, 1593029644...   \n",
       "221  {2352757504, 1318699267, 463207690, 4013102741...   \n",
       "222  {3712246153, 2391777162, 2684049684, 401310274...   \n",
       "223  {2473481, 4013102741, 566037670, 2455870758, 1...   \n",
       "\n",
       "                                             signature  \n",
       "219  [18622085, 32776440, 21561465, 191860621, 9160...  \n",
       "220  [116119196, 134412392, 15045377, 922378, 36390...  \n",
       "221  [77244016, 247586965, 343106086, 653196371, 20...  \n",
       "222  [8379671, 18718807, 281343041, 177753045, 3669...  \n",
       "223  [144950540, 122747773, 41607353, 97773221, 829...  "
      ],
      "text/html": "<div>\n<style scoped>\n    .dataframe tbody tr th:only-of-type {\n        vertical-align: middle;\n    }\n\n    .dataframe tbody tr th {\n        vertical-align: top;\n    }\n\n    .dataframe thead th {\n        text-align: right;\n    }\n</style>\n<table border=\"1\" class=\"dataframe\">\n  <thead>\n    <tr style=\"text-align: right;\">\n      <th></th>\n      <th>Unnamed: 0</th>\n      <th>Unnamed: 0.1</th>\n      <th>index</th>\n      <th>created_at</th>\n      <th>id</th>\n      <th>text</th>\n      <th>language</th>\n      <th>shingleSet</th>\n      <th>signature</th>\n    </tr>\n  </thead>\n  <tbody>\n    <tr>\n      <th>219</th>\n      <td>219</td>\n      <td>227</td>\n      <td>251.0</td>\n      <td>Tue Apr 27 23:58:10 +0000 2021</td>\n      <td>1.387194e+18</td>\n      <td>Sometimes you get a third chance   Love s Thir...</td>\n      <td>en</td>\n      <td>{1975646848, 3508350977, 2277555713, 187718236...</td>\n      <td>[18622085, 32776440, 21561465, 191860621, 9160...</td>\n    </tr>\n    <tr>\n      <th>220</th>\n      <td>220</td>\n      <td>228</td>\n      <td>252.0</td>\n      <td>Tue Apr 27 23:58:10 +0000 2021</td>\n      <td>1.387194e+18</td>\n      <td>Check out this Amazon deal  The Art of My Neig...</td>\n      <td>en</td>\n      <td>{622155522, 3082850439, 1706091273, 1593029644...</td>\n      <td>[116119196, 134412392, 15045377, 922378, 36390...</td>\n    </tr>\n    <tr>\n      <th>221</th>\n      <td>221</td>\n      <td>229</td>\n      <td>253.0</td>\n      <td>Tue Apr 27 23:58:08 +0000 2021</td>\n      <td>1.387194e+18</td>\n      <td>First Steps  How Upright Walking Made Us Hum...</td>\n      <td>en</td>\n      <td>{2352757504, 1318699267, 463207690, 4013102741...</td>\n      <td>[77244016, 247586965, 343106086, 653196371, 20...</td>\n    </tr>\n    <tr>\n      <th>222</th>\n      <td>222</td>\n      <td>230</td>\n      <td>254.0</td>\n      <td>Tue Apr 27 23:58:04 +0000 2021</td>\n      <td>1.387194e+18</td>\n      <td>The First Day of Spring by Nancy Tucker    B...</td>\n      <td>en</td>\n      <td>{3712246153, 2391777162, 2684049684, 401310274...</td>\n      <td>[8379671, 18718807, 281343041, 177753045, 3669...</td>\n    </tr>\n    <tr>\n      <th>223</th>\n      <td>223</td>\n      <td>231</td>\n      <td>255.0</td>\n      <td>Tue Apr 27 23:58:04 +0000 2021</td>\n      <td>1.387194e+18</td>\n      <td>ad              off     Galaxy Star Projector ...</td>\n      <td>en</td>\n      <td>{2473481, 4013102741, 566037670, 2455870758, 1...</td>\n      <td>[144950540, 122747773, 41607353, 97773221, 829...</td>\n    </tr>\n  </tbody>\n</table>\n</div>"
     },
     "metadata": {},
     "execution_count": 1
    }
   ],
   "source": [
    "import pandas\n",
    "data4=pandas.read_csv('../data/5.pulledTweet-deduplicated.csv')\n",
    "data4.tail()"
   ]
  },
  {
   "cell_type": "code",
   "execution_count": 4,
   "metadata": {},
   "outputs": [
    {
     "output_type": "execute_result",
     "data": {
      "text/plain": [
       "[('Amazon', 27),\n",
       " ('Frank Sonnenberg', 7),\n",
       " ('UK', 4),\n",
       " ('AMZN', 4),\n",
       " ('VakeelSaabOnPrime', 3),\n",
       " ('AAPL', 3),\n",
       " ('US', 3),\n",
       " ('Amazon    ', 3),\n",
       " ('NFLX', 2),\n",
       " ('NAT', 2)]"
      ]
     },
     "metadata": {},
     "execution_count": 4
    }
   ],
   "source": [
    "import spacy\n",
    "nlp = spacy.load(\"en_core_web_sm\", disable = ['tagger','lemmatizer','parser'])\n",
    "ents = []\n",
    "for doc in data4['text']:\n",
    "    doc=str(doc)\n",
    "    doc = nlp(doc)\n",
    "    for ent in doc.ents:\n",
    "            if ent.label_ in ['ORG','PERSON','FAC','GPE']:\n",
    "                ents.append(str(ent))\n",
    "\n",
    "from collections import Counter\n",
    "Counter(ents).most_common(10)"
   ]
  }
 ],
 "metadata": {
  "kernelspec": {
   "name": "python370jvsc74a57bd0398dc28c06ad810e77de546bbdfa897a6ee0b83e59a5207339dda01a7843e01d",
   "display_name": "Python 3.7.0 64-bit ('base': conda)"
  },
  "language_info": {
   "codemirror_mode": {
    "name": "ipython",
    "version": 3
   },
   "file_extension": ".py",
   "mimetype": "text/x-python",
   "name": "python",
   "nbconvert_exporter": "python",
   "pygments_lexer": "ipython3",
   "version": "3.7.0"
  },
  "toc": {
   "base_numbering": 1,
   "nav_menu": {},
   "number_sections": true,
   "sideBar": true,
   "skip_h1_title": false,
   "title_cell": "Table of Contents",
   "title_sidebar": "Contents",
   "toc_cell": false,
   "toc_position": {},
   "toc_section_display": true,
   "toc_window_display": false
  }
 },
 "nbformat": 4,
 "nbformat_minor": 2
}