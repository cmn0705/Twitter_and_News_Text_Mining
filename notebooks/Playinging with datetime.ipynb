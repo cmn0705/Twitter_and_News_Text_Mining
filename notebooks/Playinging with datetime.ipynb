{
 "cells": [
  {
   "cell_type": "markdown",
   "metadata": {},
   "source": [
    "# Additional: Playing with datetime\n",
    "https://pandas.pydata.org/docs/reference/api/pandas.Timestamp.html"
   ]
  },
  {
   "cell_type": "code",
   "execution_count": 1,
   "metadata": {},
   "outputs": [],
   "source": [
    "import pandas as pd\n",
    "import numpy as np\n",
    "import datetime"
   ]
  },
  {
   "cell_type": "code",
   "execution_count": 2,
   "metadata": {},
   "outputs": [
    {
     "data": {
      "text/html": [
       "<div>\n",
       "<style scoped>\n",
       "    .dataframe tbody tr th:only-of-type {\n",
       "        vertical-align: middle;\n",
       "    }\n",
       "\n",
       "    .dataframe tbody tr th {\n",
       "        vertical-align: top;\n",
       "    }\n",
       "\n",
       "    .dataframe thead th {\n",
       "        text-align: right;\n",
       "    }\n",
       "</style>\n",
       "<table border=\"1\" class=\"dataframe\">\n",
       "  <thead>\n",
       "    <tr style=\"text-align: right;\">\n",
       "      <th></th>\n",
       "      <th>price</th>\n",
       "    </tr>\n",
       "  </thead>\n",
       "  <tbody>\n",
       "    <tr>\n",
       "      <th>20030102:0000</th>\n",
       "      <td>0.959</td>\n",
       "    </tr>\n",
       "    <tr>\n",
       "      <th>20030103:0000</th>\n",
       "      <td>0.967</td>\n",
       "    </tr>\n",
       "    <tr>\n",
       "      <th>20030106:0000</th>\n",
       "      <td>0.965</td>\n",
       "    </tr>\n",
       "    <tr>\n",
       "      <th>20030107:0000</th>\n",
       "      <td>0.960</td>\n",
       "    </tr>\n",
       "    <tr>\n",
       "      <th>20030108:0000</th>\n",
       "      <td>0.943</td>\n",
       "    </tr>\n",
       "    <tr>\n",
       "      <th>20030109:0000</th>\n",
       "      <td>0.952</td>\n",
       "    </tr>\n",
       "    <tr>\n",
       "      <th>20030110:0000</th>\n",
       "      <td>0.955</td>\n",
       "    </tr>\n",
       "    <tr>\n",
       "      <th>20030113:0000</th>\n",
       "      <td>0.956</td>\n",
       "    </tr>\n",
       "    <tr>\n",
       "      <th>20030114:0000</th>\n",
       "      <td>0.946</td>\n",
       "    </tr>\n",
       "    <tr>\n",
       "      <th>20030115:0000</th>\n",
       "      <td>0.935</td>\n",
       "    </tr>\n",
       "  </tbody>\n",
       "</table>\n",
       "</div>"
      ],
      "text/plain": [
       "               price\n",
       "20030102:0000  0.959\n",
       "20030103:0000  0.967\n",
       "20030106:0000  0.965\n",
       "20030107:0000  0.960\n",
       "20030108:0000  0.943\n",
       "20030109:0000  0.952\n",
       "20030110:0000  0.955\n",
       "20030113:0000  0.956\n",
       "20030114:0000  0.946\n",
       "20030115:0000  0.935"
      ]
     },
     "execution_count": 2,
     "metadata": {},
     "output_type": "execute_result"
    }
   ],
   "source": [
    "df = pd.read_table('../data/AAPL#20030101-20170401.QT_EOD_1500', delim_whitespace=True).drop(columns=['note','volume','open_price','high','low'])[:10].apply(pd.to_numeric)\n",
    "df"
   ]
  },
  {
   "cell_type": "code",
   "execution_count": 3,
   "metadata": {},
   "outputs": [
    {
     "data": {
      "text/html": [
       "<div>\n",
       "<style scoped>\n",
       "    .dataframe tbody tr th:only-of-type {\n",
       "        vertical-align: middle;\n",
       "    }\n",
       "\n",
       "    .dataframe tbody tr th {\n",
       "        vertical-align: top;\n",
       "    }\n",
       "\n",
       "    .dataframe thead th {\n",
       "        text-align: right;\n",
       "    }\n",
       "</style>\n",
       "<table border=\"1\" class=\"dataframe\">\n",
       "  <thead>\n",
       "    <tr style=\"text-align: right;\">\n",
       "      <th></th>\n",
       "      <th>price</th>\n",
       "      <th>newIndex</th>\n",
       "    </tr>\n",
       "  </thead>\n",
       "  <tbody>\n",
       "    <tr>\n",
       "      <th>20030102:0000</th>\n",
       "      <td>0.959</td>\n",
       "      <td>2003-01-02</td>\n",
       "    </tr>\n",
       "    <tr>\n",
       "      <th>20030103:0000</th>\n",
       "      <td>0.967</td>\n",
       "      <td>2003-01-03</td>\n",
       "    </tr>\n",
       "    <tr>\n",
       "      <th>20030106:0000</th>\n",
       "      <td>0.965</td>\n",
       "      <td>2003-01-06</td>\n",
       "    </tr>\n",
       "    <tr>\n",
       "      <th>20030107:0000</th>\n",
       "      <td>0.960</td>\n",
       "      <td>2003-01-07</td>\n",
       "    </tr>\n",
       "    <tr>\n",
       "      <th>20030108:0000</th>\n",
       "      <td>0.943</td>\n",
       "      <td>2003-01-08</td>\n",
       "    </tr>\n",
       "    <tr>\n",
       "      <th>20030109:0000</th>\n",
       "      <td>0.952</td>\n",
       "      <td>2003-01-09</td>\n",
       "    </tr>\n",
       "    <tr>\n",
       "      <th>20030110:0000</th>\n",
       "      <td>0.955</td>\n",
       "      <td>2003-01-10</td>\n",
       "    </tr>\n",
       "    <tr>\n",
       "      <th>20030113:0000</th>\n",
       "      <td>0.956</td>\n",
       "      <td>2003-01-13</td>\n",
       "    </tr>\n",
       "    <tr>\n",
       "      <th>20030114:0000</th>\n",
       "      <td>0.946</td>\n",
       "      <td>2003-01-14</td>\n",
       "    </tr>\n",
       "    <tr>\n",
       "      <th>20030115:0000</th>\n",
       "      <td>0.935</td>\n",
       "      <td>2003-01-15</td>\n",
       "    </tr>\n",
       "  </tbody>\n",
       "</table>\n",
       "</div>"
      ],
      "text/plain": [
       "               price   newIndex\n",
       "20030102:0000  0.959 2003-01-02\n",
       "20030103:0000  0.967 2003-01-03\n",
       "20030106:0000  0.965 2003-01-06\n",
       "20030107:0000  0.960 2003-01-07\n",
       "20030108:0000  0.943 2003-01-08\n",
       "20030109:0000  0.952 2003-01-09\n",
       "20030110:0000  0.955 2003-01-10\n",
       "20030113:0000  0.956 2003-01-13\n",
       "20030114:0000  0.946 2003-01-14\n",
       "20030115:0000  0.935 2003-01-15"
      ]
     },
     "execution_count": 3,
     "metadata": {},
     "output_type": "execute_result"
    }
   ],
   "source": [
    "df[\"newIndex\"]=df.index\n",
    "df.newIndex=df.apply(lambda x: pd.Timestamp(x.newIndex[:8]), axis=1)\n",
    "df"
   ]
  },
  {
   "cell_type": "code",
   "execution_count": 4,
   "metadata": {},
   "outputs": [
    {
     "data": {
      "text/html": [
       "<div>\n",
       "<style scoped>\n",
       "    .dataframe tbody tr th:only-of-type {\n",
       "        vertical-align: middle;\n",
       "    }\n",
       "\n",
       "    .dataframe tbody tr th {\n",
       "        vertical-align: top;\n",
       "    }\n",
       "\n",
       "    .dataframe thead th {\n",
       "        text-align: right;\n",
       "    }\n",
       "</style>\n",
       "<table border=\"1\" class=\"dataframe\">\n",
       "  <thead>\n",
       "    <tr style=\"text-align: right;\">\n",
       "      <th></th>\n",
       "      <th>Apple Stock Price</th>\n",
       "    </tr>\n",
       "    <tr>\n",
       "      <th>newIndex</th>\n",
       "      <th></th>\n",
       "    </tr>\n",
       "  </thead>\n",
       "  <tbody>\n",
       "    <tr>\n",
       "      <th>2003-01-02</th>\n",
       "      <td>0.959</td>\n",
       "    </tr>\n",
       "    <tr>\n",
       "      <th>2003-01-03</th>\n",
       "      <td>0.967</td>\n",
       "    </tr>\n",
       "    <tr>\n",
       "      <th>2003-01-06</th>\n",
       "      <td>0.965</td>\n",
       "    </tr>\n",
       "    <tr>\n",
       "      <th>2003-01-07</th>\n",
       "      <td>0.960</td>\n",
       "    </tr>\n",
       "    <tr>\n",
       "      <th>2003-01-08</th>\n",
       "      <td>0.943</td>\n",
       "    </tr>\n",
       "    <tr>\n",
       "      <th>2003-01-09</th>\n",
       "      <td>0.952</td>\n",
       "    </tr>\n",
       "    <tr>\n",
       "      <th>2003-01-10</th>\n",
       "      <td>0.955</td>\n",
       "    </tr>\n",
       "    <tr>\n",
       "      <th>2003-01-13</th>\n",
       "      <td>0.956</td>\n",
       "    </tr>\n",
       "    <tr>\n",
       "      <th>2003-01-14</th>\n",
       "      <td>0.946</td>\n",
       "    </tr>\n",
       "    <tr>\n",
       "      <th>2003-01-15</th>\n",
       "      <td>0.935</td>\n",
       "    </tr>\n",
       "  </tbody>\n",
       "</table>\n",
       "</div>"
      ],
      "text/plain": [
       "            Apple Stock Price\n",
       "newIndex                     \n",
       "2003-01-02              0.959\n",
       "2003-01-03              0.967\n",
       "2003-01-06              0.965\n",
       "2003-01-07              0.960\n",
       "2003-01-08              0.943\n",
       "2003-01-09              0.952\n",
       "2003-01-10              0.955\n",
       "2003-01-13              0.956\n",
       "2003-01-14              0.946\n",
       "2003-01-15              0.935"
      ]
     },
     "execution_count": 4,
     "metadata": {},
     "output_type": "execute_result"
    }
   ],
   "source": [
    "df = df.set_index('newIndex')\n",
    "df.rename(columns = {'price':'Apple Stock Price'}, inplace = True)\n",
    "df"
   ]
  },
  {
   "cell_type": "code",
   "execution_count": 6,
   "metadata": {},
   "outputs": [
    {
     "data": {
      "text/plain": [
       "<matplotlib.axes._subplots.AxesSubplot at 0x1176019e8>"
      ]
     },
     "execution_count": 6,
     "metadata": {},
     "output_type": "execute_result"
    },
    {
     "data": {
      "image/png": "[encoded data removed]",
      "text/plain": [
       "<Figure size 432x288 with 1 Axes>"
      ]
     },
     "metadata": {
      "needs_background": "light"
     },
     "output_type": "display_data"
    }
   ],
   "source": [
    "df.plot()"
   ]
  }
 ],
 "metadata": {
  "kernelspec": {
   "display_name": "Python 3",
   "language": "python",
   "name": "python3"
  },
  "language_info": {
   "codemirror_mode": {
    "name": "ipython",
    "version": 3
   },
   "file_extension": ".py",
   "mimetype": "text/x-python",
   "name": "python",
   "nbconvert_exporter": "python",
   "pygments_lexer": "ipython3",
   "version": "3.7.0"
  },
  "toc": {
   "base_numbering": 1,
   "nav_menu": {},
   "number_sections": true,
   "sideBar": true,
   "skip_h1_title": false,
   "title_cell": "Table of Contents",
   "title_sidebar": "Contents",
   "toc_cell": false,
   "toc_position": {},
   "toc_section_display": true,
   "toc_window_display": false
  }
 },
 "nbformat": 4,
 "nbformat_minor": 2
}
