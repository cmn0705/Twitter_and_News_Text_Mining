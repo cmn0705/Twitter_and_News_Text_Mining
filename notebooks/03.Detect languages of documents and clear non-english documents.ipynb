{
 "cells": [
  {
   "source": [
    "# Language detection and clear non-english articles\n",
    "- input: \n",
    "    - data3: dataframe with 'text' columns, in many languages\n",
    "- output: \n",
    "    - data3: dataframe with only english articles"
   ],
   "cell_type": "markdown",
   "metadata": {}
  },
  {
   "cell_type": "code",
   "execution_count": 2,
   "metadata": {},
   "outputs": [
    {
     "output_type": "execute_result",
     "data": {
      "text/plain": [
       "    Unnamed: 0                      created_at            id  \\\n",
       "699        695  Tue Apr 27 23:58:10 +0000 2021  1.387194e+18   \n",
       "700        696  Tue Apr 27 23:58:08 +0000 2021  1.387194e+18   \n",
       "701        697  Tue Apr 27 23:58:07 +0000 2021  1.387194e+18   \n",
       "702        698  Tue Apr 27 23:58:04 +0000 2021  1.387194e+18   \n",
       "703        699  Tue Apr 27 23:58:04 +0000 2021  1.387194e+18   \n",
       "\n",
       "                                                  text  \n",
       "699  【#Amazonタイムセール速報】\\nタッチペン #iPad対応ペンシル #パームリジェクシ...  \n",
       "700  RT @bigtickHK: First Steps: How Upright Walkin...  \n",
       "701  RT @kokonananya: 見かけると思わず「なんの主張やねん！」と叫ばずにはいられな...  \n",
       "702  RT @bigtickHK: The First Day of Spring by Nanc...  \n",
       "703  ad: $29.99 (50% off) \\n \\nGalaxy Star Projecto...  "
      ],
      "text/html": "<div>\n<style scoped>\n    .dataframe tbody tr th:only-of-type {\n        vertical-align: middle;\n    }\n\n    .dataframe tbody tr th {\n        vertical-align: top;\n    }\n\n    .dataframe thead th {\n        text-align: right;\n    }\n</style>\n<table border=\"1\" class=\"dataframe\">\n  <thead>\n    <tr style=\"text-align: right;\">\n      <th></th>\n      <th>Unnamed: 0</th>\n      <th>created_at</th>\n      <th>id</th>\n      <th>text</th>\n    </tr>\n  </thead>\n  <tbody>\n    <tr>\n      <th>699</th>\n      <td>695</td>\n      <td>Tue Apr 27 23:58:10 +0000 2021</td>\n      <td>1.387194e+18</td>\n      <td>【#Amazonタイムセール速報】\\nタッチペン #iPad対応ペンシル #パームリジェクシ...</td>\n    </tr>\n    <tr>\n      <th>700</th>\n      <td>696</td>\n      <td>Tue Apr 27 23:58:08 +0000 2021</td>\n      <td>1.387194e+18</td>\n      <td>RT @bigtickHK: First Steps: How Upright Walkin...</td>\n    </tr>\n    <tr>\n      <th>701</th>\n      <td>697</td>\n      <td>Tue Apr 27 23:58:07 +0000 2021</td>\n      <td>1.387194e+18</td>\n      <td>RT @kokonananya: 見かけると思わず「なんの主張やねん！」と叫ばずにはいられな...</td>\n    </tr>\n    <tr>\n      <th>702</th>\n      <td>698</td>\n      <td>Tue Apr 27 23:58:04 +0000 2021</td>\n      <td>1.387194e+18</td>\n      <td>RT @bigtickHK: The First Day of Spring by Nanc...</td>\n    </tr>\n    <tr>\n      <th>703</th>\n      <td>699</td>\n      <td>Tue Apr 27 23:58:04 +0000 2021</td>\n      <td>1.387194e+18</td>\n      <td>ad: $29.99 (50% off) \\n \\nGalaxy Star Projecto...</td>\n    </tr>\n  </tbody>\n</table>\n</div>"
     },
     "metadata": {},
     "execution_count": 2
    }
   ],
   "source": [
    "import pandas\n",
    "data3=pandas.read_csv('../data/2.pulledTweets.csv')\n",
    "data3.tail()"
   ]
  },
  {
   "source": [
    "# GOOGLE LANGUAGE DETECTION\n",
    "\n",
    "data3['language']=''\n",
    "from langdetect import detect\n",
    "for i in range(len(data3)):\n",
    "    try: data3['language'][i]=detect(data3['text'][i])\n",
    "    except: \n",
    "        data3['language'][i]='en'\n",
    "        continue\n",
    "data3.tail()"
   ],
   "cell_type": "code",
   "metadata": {},
   "execution_count": 3,
   "outputs": [
    {
     "output_type": "stream",
     "name": "stderr",
     "text": [
      "/anaconda3/lib/python3.7/site-packages/ipykernel_launcher.py:6: SettingWithCopyWarning: \n",
      "A value is trying to be set on a copy of a slice from a DataFrame\n",
      "\n",
      "See the caveats in the documentation: https://pandas.pydata.org/pandas-docs/stable/user_guide/indexing.html#returning-a-view-versus-a-copy\n",
      "  \n",
      "/anaconda3/lib/python3.7/site-packages/ipykernel_launcher.py:8: SettingWithCopyWarning: \n",
      "A value is trying to be set on a copy of a slice from a DataFrame\n",
      "\n",
      "See the caveats in the documentation: https://pandas.pydata.org/pandas-docs/stable/user_guide/indexing.html#returning-a-view-versus-a-copy\n",
      "  \n"
     ]
    },
    {
     "output_type": "execute_result",
     "data": {
      "text/plain": [
       "    Unnamed: 0                      created_at            id  \\\n",
       "699        695  Tue Apr 27 23:58:10 +0000 2021  1.387194e+18   \n",
       "700        696  Tue Apr 27 23:58:08 +0000 2021  1.387194e+18   \n",
       "701        697  Tue Apr 27 23:58:07 +0000 2021  1.387194e+18   \n",
       "702        698  Tue Apr 27 23:58:04 +0000 2021  1.387194e+18   \n",
       "703        699  Tue Apr 27 23:58:04 +0000 2021  1.387194e+18   \n",
       "\n",
       "                                                  text language  \n",
       "699  【#Amazonタイムセール速報】\\nタッチペン #iPad対応ペンシル #パームリジェクシ...       ja  \n",
       "700  RT @bigtickHK: First Steps: How Upright Walkin...       en  \n",
       "701  RT @kokonananya: 見かけると思わず「なんの主張やねん！」と叫ばずにはいられな...       ja  \n",
       "702  RT @bigtickHK: The First Day of Spring by Nanc...       en  \n",
       "703  ad: $29.99 (50% off) \\n \\nGalaxy Star Projecto...       en  "
      ],
      "text/html": "<div>\n<style scoped>\n    .dataframe tbody tr th:only-of-type {\n        vertical-align: middle;\n    }\n\n    .dataframe tbody tr th {\n        vertical-align: top;\n    }\n\n    .dataframe thead th {\n        text-align: right;\n    }\n</style>\n<table border=\"1\" class=\"dataframe\">\n  <thead>\n    <tr style=\"text-align: right;\">\n      <th></th>\n      <th>Unnamed: 0</th>\n      <th>created_at</th>\n      <th>id</th>\n      <th>text</th>\n      <th>language</th>\n    </tr>\n  </thead>\n  <tbody>\n    <tr>\n      <th>699</th>\n      <td>695</td>\n      <td>Tue Apr 27 23:58:10 +0000 2021</td>\n      <td>1.387194e+18</td>\n      <td>【#Amazonタイムセール速報】\\nタッチペン #iPad対応ペンシル #パームリジェクシ...</td>\n      <td>ja</td>\n    </tr>\n    <tr>\n      <th>700</th>\n      <td>696</td>\n      <td>Tue Apr 27 23:58:08 +0000 2021</td>\n      <td>1.387194e+18</td>\n      <td>RT @bigtickHK: First Steps: How Upright Walkin...</td>\n      <td>en</td>\n    </tr>\n    <tr>\n      <th>701</th>\n      <td>697</td>\n      <td>Tue Apr 27 23:58:07 +0000 2021</td>\n      <td>1.387194e+18</td>\n      <td>RT @kokonananya: 見かけると思わず「なんの主張やねん！」と叫ばずにはいられな...</td>\n      <td>ja</td>\n    </tr>\n    <tr>\n      <th>702</th>\n      <td>698</td>\n      <td>Tue Apr 27 23:58:04 +0000 2021</td>\n      <td>1.387194e+18</td>\n      <td>RT @bigtickHK: The First Day of Spring by Nanc...</td>\n      <td>en</td>\n    </tr>\n    <tr>\n      <th>703</th>\n      <td>699</td>\n      <td>Tue Apr 27 23:58:04 +0000 2021</td>\n      <td>1.387194e+18</td>\n      <td>ad: $29.99 (50% off) \\n \\nGalaxy Star Projecto...</td>\n      <td>en</td>\n    </tr>\n  </tbody>\n</table>\n</div>"
     },
     "metadata": {},
     "execution_count": 3
    }
   ]
  },
  {
   "cell_type": "code",
   "execution_count": 4,
   "metadata": {},
   "outputs": [
    {
     "output_type": "execute_result",
     "data": {
      "text/plain": [
       "           id\n",
       "language     \n",
       "ja        376\n",
       "en        252\n",
       "pt         25\n",
       "es         13\n",
       "et          8"
      ],
      "text/html": "<div>\n<style scoped>\n    .dataframe tbody tr th:only-of-type {\n        vertical-align: middle;\n    }\n\n    .dataframe tbody tr th {\n        vertical-align: top;\n    }\n\n    .dataframe thead th {\n        text-align: right;\n    }\n</style>\n<table border=\"1\" class=\"dataframe\">\n  <thead>\n    <tr style=\"text-align: right;\">\n      <th></th>\n      <th>id</th>\n    </tr>\n    <tr>\n      <th>language</th>\n      <th></th>\n    </tr>\n  </thead>\n  <tbody>\n    <tr>\n      <th>ja</th>\n      <td>376</td>\n    </tr>\n    <tr>\n      <th>en</th>\n      <td>252</td>\n    </tr>\n    <tr>\n      <th>pt</th>\n      <td>25</td>\n    </tr>\n    <tr>\n      <th>es</th>\n      <td>13</td>\n    </tr>\n    <tr>\n      <th>et</th>\n      <td>8</td>\n    </tr>\n  </tbody>\n</table>\n</div>"
     },
     "metadata": {},
     "execution_count": 4
    }
   ],
   "source": [
    "# Check out the number of messages in each language, top 5\n",
    "data3[['language','id']].groupby('language').count().sort_values(by=['id'], ascending=False).head()"
   ]
  },
  {
   "cell_type": "code",
   "execution_count": 5,
   "metadata": {},
   "outputs": [
    {
     "output_type": "execute_result",
     "data": {
      "text/plain": [
       "           id\n",
       "language     \n",
       "en        252"
      ],
      "text/html": "<div>\n<style scoped>\n    .dataframe tbody tr th:only-of-type {\n        vertical-align: middle;\n    }\n\n    .dataframe tbody tr th {\n        vertical-align: top;\n    }\n\n    .dataframe thead th {\n        text-align: right;\n    }\n</style>\n<table border=\"1\" class=\"dataframe\">\n  <thead>\n    <tr style=\"text-align: right;\">\n      <th></th>\n      <th>id</th>\n    </tr>\n    <tr>\n      <th>language</th>\n      <th></th>\n    </tr>\n  </thead>\n  <tbody>\n    <tr>\n      <th>en</th>\n      <td>252</td>\n    </tr>\n  </tbody>\n</table>\n</div>"
     },
     "metadata": {},
     "execution_count": 5
    }
   ],
   "source": [
    "# DROP NON-ENGLISH ARTICLES\n",
    "data3=data3[(data3['language']=='en')|(data3['language']=='')].reset_index()\n",
    "data3[['language','id']].groupby('language').count()"
   ]
  },
  {
   "cell_type": "code",
   "execution_count": 6,
   "metadata": {},
   "outputs": [
    {
     "output_type": "execute_result",
     "data": {
      "text/plain": [
       "     index Unnamed: 0                      created_at            id  \\\n",
       "251    697        693  Tue Apr 27 23:58:10 +0000 2021  1.387194e+18   \n",
       "252    698        694  Tue Apr 27 23:58:10 +0000 2021  1.387194e+18   \n",
       "253    700        696  Tue Apr 27 23:58:08 +0000 2021  1.387194e+18   \n",
       "254    702        698  Tue Apr 27 23:58:04 +0000 2021  1.387194e+18   \n",
       "255    703        699  Tue Apr 27 23:58:04 +0000 2021  1.387194e+18   \n",
       "\n",
       "                                                  text language  \n",
       "251  Sometimes you get a third chance - Love's Thir...       en  \n",
       "252  Check out this Amazon deal: The Art of My Neig...       en  \n",
       "253  RT @bigtickHK: First Steps: How Upright Walkin...       en  \n",
       "254  RT @bigtickHK: The First Day of Spring by Nanc...       en  \n",
       "255  ad: $29.99 (50% off) \\n \\nGalaxy Star Projecto...       en  "
      ],
      "text/html": "<div>\n<style scoped>\n    .dataframe tbody tr th:only-of-type {\n        vertical-align: middle;\n    }\n\n    .dataframe tbody tr th {\n        vertical-align: top;\n    }\n\n    .dataframe thead th {\n        text-align: right;\n    }\n</style>\n<table border=\"1\" class=\"dataframe\">\n  <thead>\n    <tr style=\"text-align: right;\">\n      <th></th>\n      <th>index</th>\n      <th>Unnamed: 0</th>\n      <th>created_at</th>\n      <th>id</th>\n      <th>text</th>\n      <th>language</th>\n    </tr>\n  </thead>\n  <tbody>\n    <tr>\n      <th>251</th>\n      <td>697</td>\n      <td>693</td>\n      <td>Tue Apr 27 23:58:10 +0000 2021</td>\n      <td>1.387194e+18</td>\n      <td>Sometimes you get a third chance - Love's Thir...</td>\n      <td>en</td>\n    </tr>\n    <tr>\n      <th>252</th>\n      <td>698</td>\n      <td>694</td>\n      <td>Tue Apr 27 23:58:10 +0000 2021</td>\n      <td>1.387194e+18</td>\n      <td>Check out this Amazon deal: The Art of My Neig...</td>\n      <td>en</td>\n    </tr>\n    <tr>\n      <th>253</th>\n      <td>700</td>\n      <td>696</td>\n      <td>Tue Apr 27 23:58:08 +0000 2021</td>\n      <td>1.387194e+18</td>\n      <td>RT @bigtickHK: First Steps: How Upright Walkin...</td>\n      <td>en</td>\n    </tr>\n    <tr>\n      <th>254</th>\n      <td>702</td>\n      <td>698</td>\n      <td>Tue Apr 27 23:58:04 +0000 2021</td>\n      <td>1.387194e+18</td>\n      <td>RT @bigtickHK: The First Day of Spring by Nanc...</td>\n      <td>en</td>\n    </tr>\n    <tr>\n      <th>255</th>\n      <td>703</td>\n      <td>699</td>\n      <td>Tue Apr 27 23:58:04 +0000 2021</td>\n      <td>1.387194e+18</td>\n      <td>ad: $29.99 (50% off) \\n \\nGalaxy Star Projecto...</td>\n      <td>en</td>\n    </tr>\n  </tbody>\n</table>\n</div>"
     },
     "metadata": {},
     "execution_count": 6
    }
   ],
   "source": [
    "data3.tail()"
   ]
  },
  {
   "cell_type": "code",
   "execution_count": 8,
   "metadata": {},
   "outputs": [
    {
     "output_type": "execute_result",
     "data": {
      "text/plain": [
       "                         created_at            id  \\\n",
       "251  Tue Apr 27 23:58:10 +0000 2021  1.387194e+18   \n",
       "252  Tue Apr 27 23:58:10 +0000 2021  1.387194e+18   \n",
       "253  Tue Apr 27 23:58:08 +0000 2021  1.387194e+18   \n",
       "254  Tue Apr 27 23:58:04 +0000 2021  1.387194e+18   \n",
       "255  Tue Apr 27 23:58:04 +0000 2021  1.387194e+18   \n",
       "\n",
       "                                                  text language  \n",
       "251  Sometimes you get a third chance - Love's Thir...       en  \n",
       "252  Check out this Amazon deal: The Art of My Neig...       en  \n",
       "253  RT @bigtickHK: First Steps: How Upright Walkin...       en  \n",
       "254  RT @bigtickHK: The First Day of Spring by Nanc...       en  \n",
       "255  ad: $29.99 (50% off) \\n \\nGalaxy Star Projecto...       en  "
      ],
      "text/html": "<div>\n<style scoped>\n    .dataframe tbody tr th:only-of-type {\n        vertical-align: middle;\n    }\n\n    .dataframe tbody tr th {\n        vertical-align: top;\n    }\n\n    .dataframe thead th {\n        text-align: right;\n    }\n</style>\n<table border=\"1\" class=\"dataframe\">\n  <thead>\n    <tr style=\"text-align: right;\">\n      <th></th>\n      <th>created_at</th>\n      <th>id</th>\n      <th>text</th>\n      <th>language</th>\n    </tr>\n  </thead>\n  <tbody>\n    <tr>\n      <th>251</th>\n      <td>Tue Apr 27 23:58:10 +0000 2021</td>\n      <td>1.387194e+18</td>\n      <td>Sometimes you get a third chance - Love's Thir...</td>\n      <td>en</td>\n    </tr>\n    <tr>\n      <th>252</th>\n      <td>Tue Apr 27 23:58:10 +0000 2021</td>\n      <td>1.387194e+18</td>\n      <td>Check out this Amazon deal: The Art of My Neig...</td>\n      <td>en</td>\n    </tr>\n    <tr>\n      <th>253</th>\n      <td>Tue Apr 27 23:58:08 +0000 2021</td>\n      <td>1.387194e+18</td>\n      <td>RT @bigtickHK: First Steps: How Upright Walkin...</td>\n      <td>en</td>\n    </tr>\n    <tr>\n      <th>254</th>\n      <td>Tue Apr 27 23:58:04 +0000 2021</td>\n      <td>1.387194e+18</td>\n      <td>RT @bigtickHK: The First Day of Spring by Nanc...</td>\n      <td>en</td>\n    </tr>\n    <tr>\n      <th>255</th>\n      <td>Tue Apr 27 23:58:04 +0000 2021</td>\n      <td>1.387194e+18</td>\n      <td>ad: $29.99 (50% off) \\n \\nGalaxy Star Projecto...</td>\n      <td>en</td>\n    </tr>\n  </tbody>\n</table>\n</div>"
     },
     "metadata": {},
     "execution_count": 8
    }
   ],
   "source": [
    "data3=data3[['created_at','id','text','language']]\n",
    "data3.tail()"
   ]
  },
  {
   "cell_type": "code",
   "execution_count": 9,
   "metadata": {},
   "outputs": [],
   "source": [
    "data3.to_csv('../data/3.pulledTweets-English.csv')"
   ]
  }
 ],
 "metadata": {
  "kernelspec": {
   "name": "python370jvsc74a57bd0398dc28c06ad810e77de546bbdfa897a6ee0b83e59a5207339dda01a7843e01d",
   "display_name": "Python 3.7.0 64-bit ('base': conda)"
  },
  "language_info": {
   "codemirror_mode": {
    "name": "ipython",
    "version": 3
   },
   "file_extension": ".py",
   "mimetype": "text/x-python",
   "name": "python",
   "nbconvert_exporter": "python",
   "pygments_lexer": "ipython3",
   "version": "3.7.0"
  },
  "toc": {
   "base_numbering": 1,
   "nav_menu": {},
   "number_sections": true,
   "sideBar": true,
   "skip_h1_title": false,
   "title_cell": "Table of Contents",
   "title_sidebar": "Contents",
   "toc_cell": false,
   "toc_position": {},
   "toc_section_display": true,
   "toc_window_display": false
  }
 },
 "nbformat": 4,
 "nbformat_minor": 2
}