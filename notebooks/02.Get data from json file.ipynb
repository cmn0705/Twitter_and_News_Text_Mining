{
 "cells": [
  {
   "source": [
    "# Import data from json file\n",
    "- input: jason files\n",
    "- output: \n",
    "    - data1: list of json objects\n",
    "    - data2: normailized dataframe of data\n",
    "    - data3: 1000 sample records, with only relevant columns"
   ],
   "cell_type": "markdown",
   "metadata": {}
  },
  {
   "cell_type": "code",
   "execution_count": 71,
   "metadata": {},
   "outputs": [],
   "source": [
    "# IMPORT JSON FILES TO A LIST OF OBJECTS\n",
    "import json\n",
    "with open('../data/1.pulledTweets.json','r') as f:\n",
    "    data1=[json.loads(line) for line in f]"
   ]
  },
  {
   "cell_type": "code",
   "execution_count": 72,
   "metadata": {},
   "outputs": [
    {
     "output_type": "execute_result",
     "data": {
      "text/plain": [
       "                       created_at                   id               id_str  \\\n",
       "0  Sun May 02 07:59:00 +0000 2021  1388764950466863104  1388764950466863104   \n",
       "1  Sun May 02 22:11:00 +0000 2021  1388979360024055812  1388979360024055812   \n",
       "2  Sun May 02 14:21:00 +0000 2021  1388861081616068611  1388861081616068611   \n",
       "\n",
       "                                                text  truncated  \\\n",
       "0  \"House of Cards\" has always hit differently 🎂 ...       True   \n",
       "1  POWER A Enhanced Wireless Controller for Ninte...       True   \n",
       "2  Select 1st party Switch $39.99 physical/digita...       True   \n",
       "\n",
       "                                              source  in_reply_to_status_id  \\\n",
       "0  <a href=\"https://www.sprinklr.com\" rel=\"nofoll...                    NaN   \n",
       "1  <a href=\"https://about.twitter.com/products/tw...                    NaN   \n",
       "2  <a href=\"https://about.twitter.com/products/tw...                    NaN   \n",
       "\n",
       "  in_reply_to_status_id_str  in_reply_to_user_id in_reply_to_user_id_str  ...  \\\n",
       "0                      None                  NaN                    None  ...   \n",
       "1                      None                  NaN                    None  ...   \n",
       "2                      None                  NaN                    None  ...   \n",
       "\n",
       "  retweeted_status.quoted_status.contributors  \\\n",
       "0                                         NaN   \n",
       "1                                         NaN   \n",
       "2                                         NaN   \n",
       "\n",
       "  retweeted_status.quoted_status.is_quote_status  \\\n",
       "0                                            NaN   \n",
       "1                                            NaN   \n",
       "2                                            NaN   \n",
       "\n",
       "  retweeted_status.quoted_status.retweet_count  \\\n",
       "0                                          NaN   \n",
       "1                                          NaN   \n",
       "2                                          NaN   \n",
       "\n",
       "  retweeted_status.quoted_status.favorite_count  \\\n",
       "0                                           NaN   \n",
       "1                                           NaN   \n",
       "2                                           NaN   \n",
       "\n",
       "  retweeted_status.quoted_status.favorited  \\\n",
       "0                                      NaN   \n",
       "1                                      NaN   \n",
       "2                                      NaN   \n",
       "\n",
       "   retweeted_status.quoted_status.retweeted  \\\n",
       "0                                       NaN   \n",
       "1                                       NaN   \n",
       "2                                       NaN   \n",
       "\n",
       "   retweeted_status.quoted_status.possibly_sensitive  \\\n",
       "0                                                NaN   \n",
       "1                                                NaN   \n",
       "2                                                NaN   \n",
       "\n",
       "   retweeted_status.quoted_status.lang  retweeted_status.scopes.followers  \\\n",
       "0                                  NaN                                NaN   \n",
       "1                                  NaN                                NaN   \n",
       "2                                  NaN                                NaN   \n",
       "\n",
       "   quoted_status.user.entities.url.urls  \n",
       "0                                   NaN  \n",
       "1                                   NaN  \n",
       "2                                   NaN  \n",
       "\n",
       "[3 rows x 309 columns]"
      ],
      "text/html": "<div>\n<style scoped>\n    .dataframe tbody tr th:only-of-type {\n        vertical-align: middle;\n    }\n\n    .dataframe tbody tr th {\n        vertical-align: top;\n    }\n\n    .dataframe thead th {\n        text-align: right;\n    }\n</style>\n<table border=\"1\" class=\"dataframe\">\n  <thead>\n    <tr style=\"text-align: right;\">\n      <th></th>\n      <th>created_at</th>\n      <th>id</th>\n      <th>id_str</th>\n      <th>text</th>\n      <th>truncated</th>\n      <th>source</th>\n      <th>in_reply_to_status_id</th>\n      <th>in_reply_to_status_id_str</th>\n      <th>in_reply_to_user_id</th>\n      <th>in_reply_to_user_id_str</th>\n      <th>...</th>\n      <th>retweeted_status.quoted_status.contributors</th>\n      <th>retweeted_status.quoted_status.is_quote_status</th>\n      <th>retweeted_status.quoted_status.retweet_count</th>\n      <th>retweeted_status.quoted_status.favorite_count</th>\n      <th>retweeted_status.quoted_status.favorited</th>\n      <th>retweeted_status.quoted_status.retweeted</th>\n      <th>retweeted_status.quoted_status.possibly_sensitive</th>\n      <th>retweeted_status.quoted_status.lang</th>\n      <th>retweeted_status.scopes.followers</th>\n      <th>quoted_status.user.entities.url.urls</th>\n    </tr>\n  </thead>\n  <tbody>\n    <tr>\n      <th>0</th>\n      <td>Sun May 02 07:59:00 +0000 2021</td>\n      <td>1388764950466863104</td>\n      <td>1388764950466863104</td>\n      <td>\"House of Cards\" has always hit differently 🎂 ...</td>\n      <td>True</td>\n      <td>&lt;a href=\"https://www.sprinklr.com\" rel=\"nofoll...</td>\n      <td>NaN</td>\n      <td>None</td>\n      <td>NaN</td>\n      <td>None</td>\n      <td>...</td>\n      <td>NaN</td>\n      <td>NaN</td>\n      <td>NaN</td>\n      <td>NaN</td>\n      <td>NaN</td>\n      <td>NaN</td>\n      <td>NaN</td>\n      <td>NaN</td>\n      <td>NaN</td>\n      <td>NaN</td>\n    </tr>\n    <tr>\n      <th>1</th>\n      <td>Sun May 02 22:11:00 +0000 2021</td>\n      <td>1388979360024055812</td>\n      <td>1388979360024055812</td>\n      <td>POWER A Enhanced Wireless Controller for Ninte...</td>\n      <td>True</td>\n      <td>&lt;a href=\"https://about.twitter.com/products/tw...</td>\n      <td>NaN</td>\n      <td>None</td>\n      <td>NaN</td>\n      <td>None</td>\n      <td>...</td>\n      <td>NaN</td>\n      <td>NaN</td>\n      <td>NaN</td>\n      <td>NaN</td>\n      <td>NaN</td>\n      <td>NaN</td>\n      <td>NaN</td>\n      <td>NaN</td>\n      <td>NaN</td>\n      <td>NaN</td>\n    </tr>\n    <tr>\n      <th>2</th>\n      <td>Sun May 02 14:21:00 +0000 2021</td>\n      <td>1388861081616068611</td>\n      <td>1388861081616068611</td>\n      <td>Select 1st party Switch $39.99 physical/digita...</td>\n      <td>True</td>\n      <td>&lt;a href=\"https://about.twitter.com/products/tw...</td>\n      <td>NaN</td>\n      <td>None</td>\n      <td>NaN</td>\n      <td>None</td>\n      <td>...</td>\n      <td>NaN</td>\n      <td>NaN</td>\n      <td>NaN</td>\n      <td>NaN</td>\n      <td>NaN</td>\n      <td>NaN</td>\n      <td>NaN</td>\n      <td>NaN</td>\n      <td>NaN</td>\n      <td>NaN</td>\n    </tr>\n  </tbody>\n</table>\n<p>3 rows × 309 columns</p>\n</div>"
     },
     "metadata": {},
     "execution_count": 72
    }
   ],
   "source": [
    "# CONVERT AND NORMALIZE DATA TO A PANDAS DATAFRAME\n",
    "import pandas\n",
    "from pandas.io.json import json_normalize\n",
    "data2=pandas.json_normalize(data1)\n",
    "data2.head(3)"
   ]
  },
  {
   "cell_type": "code",
   "execution_count": 73,
   "metadata": {},
   "outputs": [
    {
     "output_type": "execute_result",
     "data": {
      "text/plain": [
       "                         created_at                   id  \\\n",
       "697  Tue Apr 27 23:58:07 +0000 2021  1387194380943953922   \n",
       "698  Tue Apr 27 23:58:04 +0000 2021  1387194365223702529   \n",
       "699  Tue Apr 27 23:58:04 +0000 2021  1387194364695388164   \n",
       "\n",
       "                                                  text  \n",
       "697  RT @kokonananya: 見かけると思わず「なんの主張やねん！」と叫ばずにはいられな...  \n",
       "698  RT @bigtickHK: The First Day of Spring by Nanc...  \n",
       "699  ad: $29.99 (50% off) \\n \\nGalaxy Star Projecto...  "
      ],
      "text/html": "<div>\n<style scoped>\n    .dataframe tbody tr th:only-of-type {\n        vertical-align: middle;\n    }\n\n    .dataframe tbody tr th {\n        vertical-align: top;\n    }\n\n    .dataframe thead th {\n        text-align: right;\n    }\n</style>\n<table border=\"1\" class=\"dataframe\">\n  <thead>\n    <tr style=\"text-align: right;\">\n      <th></th>\n      <th>created_at</th>\n      <th>id</th>\n      <th>text</th>\n    </tr>\n  </thead>\n  <tbody>\n    <tr>\n      <th>697</th>\n      <td>Tue Apr 27 23:58:07 +0000 2021</td>\n      <td>1387194380943953922</td>\n      <td>RT @kokonananya: 見かけると思わず「なんの主張やねん！」と叫ばずにはいられな...</td>\n    </tr>\n    <tr>\n      <th>698</th>\n      <td>Tue Apr 27 23:58:04 +0000 2021</td>\n      <td>1387194365223702529</td>\n      <td>RT @bigtickHK: The First Day of Spring by Nanc...</td>\n    </tr>\n    <tr>\n      <th>699</th>\n      <td>Tue Apr 27 23:58:04 +0000 2021</td>\n      <td>1387194364695388164</td>\n      <td>ad: $29.99 (50% off) \\n \\nGalaxy Star Projecto...</td>\n    </tr>\n  </tbody>\n</table>\n</div>"
     },
     "metadata": {},
     "execution_count": 73
    }
   ],
   "source": [
    "# KEEP ONLY INTERESTED COLUMNS, write to csv file\n",
    "data3=data2[['created_at','id','text']]\n",
    "data3.to_csv('../data/2.pulledTweets.csv')\n",
    "data3.tail(3)"
   ]
  }
 ],
 "metadata": {
  "kernelspec": {
   "name": "python370jvsc74a57bd0398dc28c06ad810e77de546bbdfa897a6ee0b83e59a5207339dda01a7843e01d",
   "display_name": "Python 3.7.0 64-bit ('base': conda)"
  },
  "language_info": {
   "codemirror_mode": {
    "name": "ipython",
    "version": 3
   },
   "file_extension": ".py",
   "mimetype": "text/x-python",
   "name": "python",
   "nbconvert_exporter": "python",
   "pygments_lexer": "ipython3",
   "version": "3.7.0"
  },
  "toc": {
   "base_numbering": 1,
   "nav_menu": {},
   "number_sections": true,
   "sideBar": true,
   "skip_h1_title": false,
   "title_cell": "Table of Contents",
   "title_sidebar": "Contents",
   "toc_cell": false,
   "toc_position": {},
   "toc_section_display": true,
   "toc_window_display": false
  }
 },
 "nbformat": 4,
 "nbformat_minor": 2
}