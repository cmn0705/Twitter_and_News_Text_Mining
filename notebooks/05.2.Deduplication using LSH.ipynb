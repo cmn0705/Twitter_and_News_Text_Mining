{
 "cells": [
  {
   "source": [
    "# Deduplication using LSH\n",
    "- input: \n",
    "    - data3: dataframe with 'text' english columns\n",
    "- output: \n",
    "    - data4: dataframe without similar articles, based on 'text' columns"
   ],
   "cell_type": "markdown",
   "metadata": {}
  },
  {
   "cell_type": "code",
   "execution_count": 2,
   "metadata": {},
   "outputs": [
    {
     "output_type": "execute_result",
     "data": {
      "text/plain": [
       "     Unnamed: 0  index                      created_at            id  \\\n",
       "219         227  251.0  Tue Apr 27 23:58:10 +0000 2021  1.387194e+18   \n",
       "220         228  252.0  Tue Apr 27 23:58:10 +0000 2021  1.387194e+18   \n",
       "221         229  253.0  Tue Apr 27 23:58:08 +0000 2021  1.387194e+18   \n",
       "222         230  254.0  Tue Apr 27 23:58:04 +0000 2021  1.387194e+18   \n",
       "223         231  255.0  Tue Apr 27 23:58:04 +0000 2021  1.387194e+18   \n",
       "\n",
       "                                                  text language  \n",
       "219  Sometimes you get a third chance   Love s Thir...       en  \n",
       "220  Check out this Amazon deal  The Art of My Neig...       en  \n",
       "221    First Steps  How Upright Walking Made Us Hum...       en  \n",
       "222    The First Day of Spring by Nancy Tucker    B...       en  \n",
       "223  ad              off     Galaxy Star Projector ...       en  "
      ],
      "text/html": "<div>\n<style scoped>\n    .dataframe tbody tr th:only-of-type {\n        vertical-align: middle;\n    }\n\n    .dataframe tbody tr th {\n        vertical-align: top;\n    }\n\n    .dataframe thead th {\n        text-align: right;\n    }\n</style>\n<table border=\"1\" class=\"dataframe\">\n  <thead>\n    <tr style=\"text-align: right;\">\n      <th></th>\n      <th>Unnamed: 0</th>\n      <th>index</th>\n      <th>created_at</th>\n      <th>id</th>\n      <th>text</th>\n      <th>language</th>\n    </tr>\n  </thead>\n  <tbody>\n    <tr>\n      <th>219</th>\n      <td>227</td>\n      <td>251.0</td>\n      <td>Tue Apr 27 23:58:10 +0000 2021</td>\n      <td>1.387194e+18</td>\n      <td>Sometimes you get a third chance   Love s Thir...</td>\n      <td>en</td>\n    </tr>\n    <tr>\n      <th>220</th>\n      <td>228</td>\n      <td>252.0</td>\n      <td>Tue Apr 27 23:58:10 +0000 2021</td>\n      <td>1.387194e+18</td>\n      <td>Check out this Amazon deal  The Art of My Neig...</td>\n      <td>en</td>\n    </tr>\n    <tr>\n      <th>221</th>\n      <td>229</td>\n      <td>253.0</td>\n      <td>Tue Apr 27 23:58:08 +0000 2021</td>\n      <td>1.387194e+18</td>\n      <td>First Steps  How Upright Walking Made Us Hum...</td>\n      <td>en</td>\n    </tr>\n    <tr>\n      <th>222</th>\n      <td>230</td>\n      <td>254.0</td>\n      <td>Tue Apr 27 23:58:04 +0000 2021</td>\n      <td>1.387194e+18</td>\n      <td>The First Day of Spring by Nancy Tucker    B...</td>\n      <td>en</td>\n    </tr>\n    <tr>\n      <th>223</th>\n      <td>231</td>\n      <td>255.0</td>\n      <td>Tue Apr 27 23:58:04 +0000 2021</td>\n      <td>1.387194e+18</td>\n      <td>ad              off     Galaxy Star Projector ...</td>\n      <td>en</td>\n    </tr>\n  </tbody>\n</table>\n</div>"
     },
     "metadata": {},
     "execution_count": 2
    }
   ],
   "source": [
    "import pandas\n",
    "data3=pandas.read_csv('../data/4.Tweet data after clear spams.csv')\n",
    "data3.tail()"
   ]
  },
  {
   "cell_type": "code",
   "execution_count": 3,
   "metadata": {},
   "outputs": [],
   "source": [
    "import os\n",
    "import re\n",
    "import random\n",
    "import time\n",
    "import binascii\n",
    "from bisect import bisect_right\n",
    "from heapq import heappop, heappush\n",
    "import sys\n",
    "from __future__ import division"
   ]
  },
  {
   "cell_type": "code",
   "execution_count": 4,
   "metadata": {},
   "outputs": [
    {
     "output_type": "stream",
     "name": "stderr",
     "text": [
      "ipykernel_launcher:13: SettingWithCopyWarning: \nA value is trying to be set on a copy of a slice from a DataFrame\n\nSee the caveats in the documentation: https://pandas.pydata.org/pandas-docs/stable/user_guide/indexing.html#returning-a-view-versus-a-copy\n"
     ]
    },
    {
     "output_type": "execute_result",
     "data": {
      "text/plain": [
       "     Unnamed: 0  index                      created_at            id  \\\n",
       "219         227  251.0  Tue Apr 27 23:58:10 +0000 2021  1.387194e+18   \n",
       "220         228  252.0  Tue Apr 27 23:58:10 +0000 2021  1.387194e+18   \n",
       "221         229  253.0  Tue Apr 27 23:58:08 +0000 2021  1.387194e+18   \n",
       "222         230  254.0  Tue Apr 27 23:58:04 +0000 2021  1.387194e+18   \n",
       "223         231  255.0  Tue Apr 27 23:58:04 +0000 2021  1.387194e+18   \n",
       "\n",
       "                                                  text language  \\\n",
       "219  Sometimes you get a third chance   Love s Thir...       en   \n",
       "220  Check out this Amazon deal  The Art of My Neig...       en   \n",
       "221    First Steps  How Upright Walking Made Us Hum...       en   \n",
       "222    The First Day of Spring by Nancy Tucker    B...       en   \n",
       "223  ad              off     Galaxy Star Projector ...       en   \n",
       "\n",
       "                                            shingleSet  \n",
       "219  {1975646848, 3508350977, 2277555713, 187718236...  \n",
       "220  {622155522, 3082850439, 1706091273, 1593029644...  \n",
       "221  {2352757504, 1318699267, 463207690, 4013102741...  \n",
       "222  {3712246153, 2391777162, 2684049684, 401310274...  \n",
       "223  {2473481, 4013102741, 566037670, 2455870758, 1...  "
      ],
      "text/html": "<div>\n<style scoped>\n    .dataframe tbody tr th:only-of-type {\n        vertical-align: middle;\n    }\n\n    .dataframe tbody tr th {\n        vertical-align: top;\n    }\n\n    .dataframe thead th {\n        text-align: right;\n    }\n</style>\n<table border=\"1\" class=\"dataframe\">\n  <thead>\n    <tr style=\"text-align: right;\">\n      <th></th>\n      <th>Unnamed: 0</th>\n      <th>index</th>\n      <th>created_at</th>\n      <th>id</th>\n      <th>text</th>\n      <th>language</th>\n      <th>shingleSet</th>\n    </tr>\n  </thead>\n  <tbody>\n    <tr>\n      <th>219</th>\n      <td>227</td>\n      <td>251.0</td>\n      <td>Tue Apr 27 23:58:10 +0000 2021</td>\n      <td>1.387194e+18</td>\n      <td>Sometimes you get a third chance   Love s Thir...</td>\n      <td>en</td>\n      <td>{1975646848, 3508350977, 2277555713, 187718236...</td>\n    </tr>\n    <tr>\n      <th>220</th>\n      <td>228</td>\n      <td>252.0</td>\n      <td>Tue Apr 27 23:58:10 +0000 2021</td>\n      <td>1.387194e+18</td>\n      <td>Check out this Amazon deal  The Art of My Neig...</td>\n      <td>en</td>\n      <td>{622155522, 3082850439, 1706091273, 1593029644...</td>\n    </tr>\n    <tr>\n      <th>221</th>\n      <td>229</td>\n      <td>253.0</td>\n      <td>Tue Apr 27 23:58:08 +0000 2021</td>\n      <td>1.387194e+18</td>\n      <td>First Steps  How Upright Walking Made Us Hum...</td>\n      <td>en</td>\n      <td>{2352757504, 1318699267, 463207690, 4013102741...</td>\n    </tr>\n    <tr>\n      <th>222</th>\n      <td>230</td>\n      <td>254.0</td>\n      <td>Tue Apr 27 23:58:04 +0000 2021</td>\n      <td>1.387194e+18</td>\n      <td>The First Day of Spring by Nancy Tucker    B...</td>\n      <td>en</td>\n      <td>{3712246153, 2391777162, 2684049684, 401310274...</td>\n    </tr>\n    <tr>\n      <th>223</th>\n      <td>231</td>\n      <td>255.0</td>\n      <td>Tue Apr 27 23:58:04 +0000 2021</td>\n      <td>1.387194e+18</td>\n      <td>ad              off     Galaxy Star Projector ...</td>\n      <td>en</td>\n      <td>{2473481, 4013102741, 566037670, 2455870758, 1...</td>\n    </tr>\n  </tbody>\n</table>\n</div>"
     },
     "metadata": {},
     "execution_count": 4
    }
   ],
   "source": [
    "# Convert documents to sets of shingles (shingle=3 consecutive words in documents)\n",
    "\n",
    "data3['shingleSet']=''\n",
    "totalShingles = 0\n",
    "numDocs=len(data3)\n",
    "for i in range(0, numDocs):\n",
    "    words = str(data3.text[i]).split(\" \") \n",
    "    shingleSet = set()\n",
    "    for index in range(0, len(words) - 2):\n",
    "        shingle = words[index] + \" \" + words[index + 1] + \" \" + words[index + 2]\n",
    "        crc = binascii.crc32(shingle.encode()) & 0xffffffff # Hash the shingle to a 32-bit integer\n",
    "        shingleSet.add(crc)\n",
    "    data3['shingleSet'][i] = shingleSet\n",
    "    totalShingles = totalShingles + len(shingleSet)\n",
    "\n",
    "data3.tail()"
   ]
  },
  {
   "cell_type": "code",
   "execution_count": 5,
   "metadata": {},
   "outputs": [
    {
     "output_type": "execute_result",
     "data": {
      "text/plain": [
       "21.330357142857142"
      ]
     },
     "metadata": {},
     "execution_count": 5
    }
   ],
   "source": [
    "totalShingles /numDocs #Average shingles per doc"
   ]
  },
  {
   "cell_type": "code",
   "execution_count": 6,
   "metadata": {},
   "outputs": [],
   "source": [
    "# When comparing 2 documents, instead of compairing all shingles, we only compair random 30 shingles, by converting each document to a signature of length 30\n",
    "numHashes = 10 #The length of signature designed for each document, make a justment based on average shingles per doc"
   ]
  },
  {
   "cell_type": "code",
   "execution_count": 7,
   "metadata": {},
   "outputs": [],
   "source": [
    "numElems = int(numDocs * (numDocs - 1) / 2) # number of paired documents to compare similarities\n",
    "estJSim = [0 for x in range(numElems)] #'estJSim' will be for the estimated Jaccard Similarities found by comparing the MinHash signatures.\n",
    "\n",
    "# Define a function to map a 2D matrix coordinate into a 1D index.\n",
    "def getTriangleIndex(i, j):\n",
    "    if i == j:\n",
    "        sys.stderr.write(\"Can't access triangle matrix with i == j\")\n",
    "        sys.exit(1)\n",
    "    if j < i:\n",
    "        temp = i\n",
    "        i = j\n",
    "        j = temp\n",
    "    return int(i * (numDocs - (i + 1) / 2.0) + j - i) - 1"
   ]
  },
  {
   "cell_type": "code",
   "execution_count": 8,
   "metadata": {},
   "outputs": [
    {
     "output_type": "stream",
     "name": "stderr",
     "text": [
      "ipykernel_launcher:32: SettingWithCopyWarning: \nA value is trying to be set on a copy of a slice from a DataFrame\n\nSee the caveats in the documentation: https://pandas.pydata.org/pandas-docs/stable/user_guide/indexing.html#returning-a-view-versus-a-copy\n"
     ]
    },
    {
     "output_type": "execute_result",
     "data": {
      "text/plain": [
       "   Unnamed: 0  index                      created_at            id  \\\n",
       "0           0    0.0  Sun May 02 07:59:00 +0000 2021  1.388765e+18   \n",
       "1           2    2.0  Sun May 02 14:21:00 +0000 2021  1.388861e+18   \n",
       "2           3    3.0  Mon May 03 23:59:58 +0000 2021  1.389369e+18   \n",
       "3           4    4.0  Mon May 03 23:59:52 +0000 2021  1.389369e+18   \n",
       "4           6    6.0  Mon May 03 23:59:43 +0000 2021  1.389369e+18   \n",
       "\n",
       "                                                text language  \\\n",
       "0   House of Cards  has always hit differently   ...       en   \n",
       "1  Select  st party Switch        physical digita...       en   \n",
       "2  Silicone Eye Pad for Oculus Quest   Face Cushi...       en   \n",
       "3  Power Strip Surge Protector    Outlets   USB P...       en   \n",
       "4   Hi  You can turn off the microphone  When thi...       en   \n",
       "\n",
       "                                          shingleSet  \\\n",
       "0  {3455063171, 1408802948, 3967006724, 483391110...   \n",
       "1  {3481900867, 2620196452, 237583687, 1968184171...   \n",
       "2  {594769416, 2740734737, 2450043928, 3640267417...   \n",
       "3  {693199104, 2065756037, 369095176, 626586633, ...   \n",
       "4  {1538276102, 1610259334, 890091017, 3614318604...   \n",
       "\n",
       "                                           signature  \n",
       "0  [69277892, 29551887, 9488767, 21443863, 130321...  \n",
       "1  [357313354, 200396749, 330873488, 80418240, 10...  \n",
       "2  [58480877, 138627901, 24612090, 796973078, 487...  \n",
       "3  [63015609, 17752544, 1560977, 50567359, 389340...  \n",
       "4  [209003528, 69077452, 49794868, 67688133, 5626...  "
      ],
      "text/html": "<div>\n<style scoped>\n    .dataframe tbody tr th:only-of-type {\n        vertical-align: middle;\n    }\n\n    .dataframe tbody tr th {\n        vertical-align: top;\n    }\n\n    .dataframe thead th {\n        text-align: right;\n    }\n</style>\n<table border=\"1\" class=\"dataframe\">\n  <thead>\n    <tr style=\"text-align: right;\">\n      <th></th>\n      <th>Unnamed: 0</th>\n      <th>index</th>\n      <th>created_at</th>\n      <th>id</th>\n      <th>text</th>\n      <th>language</th>\n      <th>shingleSet</th>\n      <th>signature</th>\n    </tr>\n  </thead>\n  <tbody>\n    <tr>\n      <th>0</th>\n      <td>0</td>\n      <td>0.0</td>\n      <td>Sun May 02 07:59:00 +0000 2021</td>\n      <td>1.388765e+18</td>\n      <td>House of Cards  has always hit differently   ...</td>\n      <td>en</td>\n      <td>{3455063171, 1408802948, 3967006724, 483391110...</td>\n      <td>[69277892, 29551887, 9488767, 21443863, 130321...</td>\n    </tr>\n    <tr>\n      <th>1</th>\n      <td>2</td>\n      <td>2.0</td>\n      <td>Sun May 02 14:21:00 +0000 2021</td>\n      <td>1.388861e+18</td>\n      <td>Select  st party Switch        physical digita...</td>\n      <td>en</td>\n      <td>{3481900867, 2620196452, 237583687, 1968184171...</td>\n      <td>[357313354, 200396749, 330873488, 80418240, 10...</td>\n    </tr>\n    <tr>\n      <th>2</th>\n      <td>3</td>\n      <td>3.0</td>\n      <td>Mon May 03 23:59:58 +0000 2021</td>\n      <td>1.389369e+18</td>\n      <td>Silicone Eye Pad for Oculus Quest   Face Cushi...</td>\n      <td>en</td>\n      <td>{594769416, 2740734737, 2450043928, 3640267417...</td>\n      <td>[58480877, 138627901, 24612090, 796973078, 487...</td>\n    </tr>\n    <tr>\n      <th>3</th>\n      <td>4</td>\n      <td>4.0</td>\n      <td>Mon May 03 23:59:52 +0000 2021</td>\n      <td>1.389369e+18</td>\n      <td>Power Strip Surge Protector    Outlets   USB P...</td>\n      <td>en</td>\n      <td>{693199104, 2065756037, 369095176, 626586633, ...</td>\n      <td>[63015609, 17752544, 1560977, 50567359, 389340...</td>\n    </tr>\n    <tr>\n      <th>4</th>\n      <td>6</td>\n      <td>6.0</td>\n      <td>Mon May 03 23:59:43 +0000 2021</td>\n      <td>1.389369e+18</td>\n      <td>Hi  You can turn off the microphone  When thi...</td>\n      <td>en</td>\n      <td>{1538276102, 1610259334, 890091017, 3614318604...</td>\n      <td>[209003528, 69077452, 49794868, 67688133, 5626...</td>\n    </tr>\n  </tbody>\n</table>\n</div>"
     },
     "metadata": {},
     "execution_count": 8
    }
   ],
   "source": [
    "maxShingleID = 2**32-1\n",
    "def pickRandomCoeffs(k):  # Create a list of 'k' random values between 0 and maxShingleID\n",
    "    randList = []\n",
    "    while k > 0:\n",
    "        randIndex = random.randint(0, maxShingleID) \n",
    "        while randIndex in randList:\n",
    "            randIndex = random.randint(0, maxShingleID) \n",
    "        randList.append(randIndex)\n",
    "        k = k - 1\n",
    "    return randList\n",
    "\n",
    "# Generating random hash functions\n",
    "\n",
    "nextPrime = 4294967311 # The prime number above 'maxShingleID'\n",
    "\n",
    "coeffA,coeffB = pickRandomCoeffs(numHashes),pickRandomCoeffs(numHashes) #each pair corresponse to a function that creat the first element in each signature\n",
    "\n",
    "# Generating MinHash signatures for all documents\n",
    "\n",
    "data3['signature'] = ''\n",
    "\n",
    "for index in range(0,numDocs):\n",
    "    shingleSet = data3['shingleSet'][index]\n",
    "    signature = []\n",
    "    for i in range(0, numHashes): #creating each elemment of a signature\n",
    "        minHashCode = nextPrime + 1\n",
    "        for shingle in shingleSet:\n",
    "            hashCode = (coeffA[i] * shingle + coeffB[i]) % nextPrime \n",
    "            if hashCode < minHashCode:# Track the lowest hash code seen\n",
    "                minHashCode = hashCode\n",
    "        signature.append(minHashCode)\n",
    "    data3['signature'][index] = signature\n",
    "\n",
    "data3.head()"
   ]
  },
  {
   "cell_type": "code",
   "execution_count": 9,
   "metadata": {},
   "outputs": [],
   "source": [
    "# Generate pairs of duplicate articles\n",
    "threshold = 0.5  \n",
    "\n",
    "docA = []  #first document in the duplicate pair - store uuid here\n",
    "docB = []  #second document in the duplicate pair - store uuid here\n",
    "for i in range(0, numDocs):  \n",
    "    for j in range(i + 1, numDocs):\n",
    "        estJ = estJSim[getTriangleIndex(i, j)]\n",
    "        if estJ > threshold:\n",
    "            docA.append(i)\n",
    "            docB.append(j)\n",
    "    \n",
    "    #   Calculate the actual Jaccard similarity for validation. Comment out this part when you done checking\n",
    "            # s1 = data3['shingleSet'][i]\n",
    "            # s2 = data3['shingleSet'][j]\n",
    "            # if len(s1.union(s2)) != 0:\n",
    "            #     J = (len(s1.intersection(s2)) / len(s1.union(s2)))\n",
    "            # print (\"  %5s --> %5s   %.2f     %.2f\" % (i, j, estJ, J))"
   ]
  },
  {
   "cell_type": "code",
   "execution_count": 10,
   "metadata": {},
   "outputs": [],
   "source": [
    "# data3.loc[docA].text.to_csv('docA.csv')\n",
    "# data3.loc[docB].text.to_csv('docB.csv')"
   ]
  },
  {
   "cell_type": "code",
   "execution_count": 12,
   "metadata": {},
   "outputs": [
    {
     "output_type": "execute_result",
     "data": {
      "text/plain": [
       "     Unnamed: 0  index                      created_at            id  \\\n",
       "219         227  251.0  Tue Apr 27 23:58:10 +0000 2021  1.387194e+18   \n",
       "220         228  252.0  Tue Apr 27 23:58:10 +0000 2021  1.387194e+18   \n",
       "221         229  253.0  Tue Apr 27 23:58:08 +0000 2021  1.387194e+18   \n",
       "222         230  254.0  Tue Apr 27 23:58:04 +0000 2021  1.387194e+18   \n",
       "223         231  255.0  Tue Apr 27 23:58:04 +0000 2021  1.387194e+18   \n",
       "\n",
       "                                                  text language  \\\n",
       "219  Sometimes you get a third chance   Love s Thir...       en   \n",
       "220  Check out this Amazon deal  The Art of My Neig...       en   \n",
       "221    First Steps  How Upright Walking Made Us Hum...       en   \n",
       "222    The First Day of Spring by Nancy Tucker    B...       en   \n",
       "223  ad              off     Galaxy Star Projector ...       en   \n",
       "\n",
       "                                            shingleSet  \\\n",
       "219  {1975646848, 3508350977, 2277555713, 187718236...   \n",
       "220  {622155522, 3082850439, 1706091273, 1593029644...   \n",
       "221  {2352757504, 1318699267, 463207690, 4013102741...   \n",
       "222  {3712246153, 2391777162, 2684049684, 401310274...   \n",
       "223  {2473481, 4013102741, 566037670, 2455870758, 1...   \n",
       "\n",
       "                                             signature  \n",
       "219  [18622085, 32776440, 21561465, 191860621, 9160...  \n",
       "220  [116119196, 134412392, 15045377, 922378, 36390...  \n",
       "221  [77244016, 247586965, 343106086, 653196371, 20...  \n",
       "222  [8379671, 18718807, 281343041, 177753045, 3669...  \n",
       "223  [144950540, 122747773, 41607353, 97773221, 829...  "
      ],
      "text/html": "<div>\n<style scoped>\n    .dataframe tbody tr th:only-of-type {\n        vertical-align: middle;\n    }\n\n    .dataframe tbody tr th {\n        vertical-align: top;\n    }\n\n    .dataframe thead th {\n        text-align: right;\n    }\n</style>\n<table border=\"1\" class=\"dataframe\">\n  <thead>\n    <tr style=\"text-align: right;\">\n      <th></th>\n      <th>Unnamed: 0</th>\n      <th>index</th>\n      <th>created_at</th>\n      <th>id</th>\n      <th>text</th>\n      <th>language</th>\n      <th>shingleSet</th>\n      <th>signature</th>\n    </tr>\n  </thead>\n  <tbody>\n    <tr>\n      <th>219</th>\n      <td>227</td>\n      <td>251.0</td>\n      <td>Tue Apr 27 23:58:10 +0000 2021</td>\n      <td>1.387194e+18</td>\n      <td>Sometimes you get a third chance   Love s Thir...</td>\n      <td>en</td>\n      <td>{1975646848, 3508350977, 2277555713, 187718236...</td>\n      <td>[18622085, 32776440, 21561465, 191860621, 9160...</td>\n    </tr>\n    <tr>\n      <th>220</th>\n      <td>228</td>\n      <td>252.0</td>\n      <td>Tue Apr 27 23:58:10 +0000 2021</td>\n      <td>1.387194e+18</td>\n      <td>Check out this Amazon deal  The Art of My Neig...</td>\n      <td>en</td>\n      <td>{622155522, 3082850439, 1706091273, 1593029644...</td>\n      <td>[116119196, 134412392, 15045377, 922378, 36390...</td>\n    </tr>\n    <tr>\n      <th>221</th>\n      <td>229</td>\n      <td>253.0</td>\n      <td>Tue Apr 27 23:58:08 +0000 2021</td>\n      <td>1.387194e+18</td>\n      <td>First Steps  How Upright Walking Made Us Hum...</td>\n      <td>en</td>\n      <td>{2352757504, 1318699267, 463207690, 4013102741...</td>\n      <td>[77244016, 247586965, 343106086, 653196371, 20...</td>\n    </tr>\n    <tr>\n      <th>222</th>\n      <td>230</td>\n      <td>254.0</td>\n      <td>Tue Apr 27 23:58:04 +0000 2021</td>\n      <td>1.387194e+18</td>\n      <td>The First Day of Spring by Nancy Tucker    B...</td>\n      <td>en</td>\n      <td>{3712246153, 2391777162, 2684049684, 401310274...</td>\n      <td>[8379671, 18718807, 281343041, 177753045, 3669...</td>\n    </tr>\n    <tr>\n      <th>223</th>\n      <td>231</td>\n      <td>255.0</td>\n      <td>Tue Apr 27 23:58:04 +0000 2021</td>\n      <td>1.387194e+18</td>\n      <td>ad              off     Galaxy Star Projector ...</td>\n      <td>en</td>\n      <td>{2473481, 4013102741, 566037670, 2455870758, 1...</td>\n      <td>[144950540, 122747773, 41607353, 97773221, 829...</td>\n    </tr>\n  </tbody>\n</table>\n</div>"
     },
     "metadata": {},
     "execution_count": 12
    }
   ],
   "source": [
    "# Remove duplicate documents\n",
    "docs_to_remove = set(docB)\n",
    "data4=data3.drop(docB)\n",
    "data4.to_csv('../data/5.pulledTweet-deduplicated.csv')\n",
    "data4.tail()"
   ]
  }
 ],
 "metadata": {
  "kernelspec": {
   "name": "python370jvsc74a57bd0398dc28c06ad810e77de546bbdfa897a6ee0b83e59a5207339dda01a7843e01d",
   "display_name": "Python 3.7.0 64-bit ('base': conda)"
  },
  "language_info": {
   "codemirror_mode": {
    "name": "ipython",
    "version": 3
   },
   "file_extension": ".py",
   "mimetype": "text/x-python",
   "name": "python",
   "nbconvert_exporter": "python",
   "pygments_lexer": "ipython3",
   "version": "3.7.0"
  },
  "toc": {
   "base_numbering": 1,
   "nav_menu": {},
   "number_sections": true,
   "sideBar": true,
   "skip_h1_title": false,
   "title_cell": "Table of Contents",
   "title_sidebar": "Contents",
   "toc_cell": false,
   "toc_position": {},
   "toc_section_display": true,
   "toc_window_display": false
  }
 },
 "nbformat": 4,
 "nbformat_minor": 2
}