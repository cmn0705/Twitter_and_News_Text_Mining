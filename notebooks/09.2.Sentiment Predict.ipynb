{
 "cells": [
  {
   "cell_type": "markdown",
   "metadata": {},
   "source": [
    "# Build Selected Sentiment Model\n",
    "Assume the best model to be LogisticRegression, rebuild model to use on our data based on the above score"
   ]
  },
  {
   "cell_type": "code",
   "execution_count": 6,
   "metadata": {},
   "outputs": [
    {
     "output_type": "stream",
     "name": "stdout",
     "text": [
      "AUC:  0.8007967867367914\n"
     ]
    }
   ],
   "source": [
    "def sentiment_model():\n",
    "    import pandas as pd\n",
    "    from sklearn.linear_model import LogisticRegression\n",
    "    from sklearn.model_selection import train_test_split\n",
    "    from sklearn.metrics import roc_auc_score\n",
    "    from sklearn.feature_extraction.text import TfidfVectorizer\n",
    "\n",
    "    #traning data\n",
    "    sentiment_data_df = pd.read_csv('../data/9.Sentiment Training 1.csv',encoding='latin-1', names=['target','ids','date','flag','user','text'])\n",
    "    sentiment_data_df = sentiment_data_df.sample(frac=0.1, random_state=0) #Train with fraction of the file for faster processing\n",
    "    sentiment_data_df['target']=sentiment_data_df['target'].replace(4, 1) #positive sentiment is recored as 1 now instead of 4\n",
    "    sentiment_data_df['target']=sentiment_data_df['target'].replace(0, -1) #negative sentiment is recorded as -1 now instead of 0\n",
    "    \n",
    "    X_train, X_test, y_train, y_test = train_test_split(sentiment_data_df['text'], sentiment_data_df['target'], random_state=0)\n",
    "\n",
    "    #vectorize traning data\n",
    "    sentiment_vect = TfidfVectorizer(min_df=5,ngram_range=(1,2)).fit(X_train)\n",
    "    X_train_vectorized = sentiment_vect.transform(X_train)\n",
    "\n",
    "    #the model\n",
    "    sentiment_model = LogisticRegression(C=1).fit(X_train_vectorized, y_train)\n",
    "\n",
    "    #evaluate the model\n",
    "    sentiment_predictions = sentiment_model.predict(sentiment_vect.transform(X_test))\n",
    "    print('AUC: ', roc_auc_score(y_test, sentiment_predictions))\n",
    "    \n",
    "    return sentiment_vect, sentiment_model\n",
    "\n",
    "sentiment_vect, sentiment_model=sentiment_model()"
   ]
  },
  {
   "cell_type": "markdown",
   "metadata": {},
   "source": [
    "# Predict on tweet data\n",
    "    - predict sentiment, using both Vader and the built model\n",
    "    - record to file"
   ]
  },
  {
   "cell_type": "code",
   "execution_count": 20,
   "metadata": {},
   "outputs": [],
   "source": [
    "def sentiment_predict(file): #print average sentiment of all docs\n",
    "    import pandas as pd\n",
    "    df=pd.read_csv(file)\n",
    "    \n",
    "    # get sentiment using the built model\n",
    "    df['builtModel_sentiment']=sentiment_model.predict(sentiment_vect.transform(df.text.astype(str)))\n",
    "\n",
    "    # get sentiment using nltk vader\n",
    "    from nltk.sentiment.vader import SentimentIntensityAnalyzer\n",
    "    df['vader_score']=''\n",
    "    for i in range(0,len(df)):\n",
    "        df.vader_score[i] = SentimentIntensityAnalyzer().polarity_scores(str(df.text[i]))['compound']\n",
    "            \n",
    "    df.to_csv('../data/9.pulledTweetsSentimentResult.csv')\n",
    "\n",
    "    print('Built model average sentiment:',df['builtModel_sentiment'].mean())\n",
    "    print('NLTK Vader average sentiment:',df['vader_score'].mean())\n"
   ]
  },
  {
   "cell_type": "code",
   "execution_count": 21,
   "metadata": {},
   "outputs": [
    {
     "output_type": "stream",
     "name": "stderr",
     "text": [
      "ipykernel_launcher:12: SettingWithCopyWarning: \n",
      "A value is trying to be set on a copy of a slice from a DataFrame\n",
      "\n",
      "See the caveats in the documentation: https://pandas.pydata.org/pandas-docs/stable/user_guide/indexing.html#returning-a-view-versus-a-copy\n",
      "Built model average sentiment: 0.5178571428571429\n",
      "NLTK Vader average sentiment: 0.20716741071428574\n"
     ]
    }
   ],
   "source": [
    "import pandas as pd\n",
    "sentiment_predict('../data/5.pulledTweet-deduplicated.csv')"
   ]
  }
 ],
 "metadata": {
  "kernelspec": {
   "name": "python370jvsc74a57bd0398dc28c06ad810e77de546bbdfa897a6ee0b83e59a5207339dda01a7843e01d",
   "display_name": "Python 3.7.0 64-bit ('base': conda)"
  },
  "language_info": {
   "codemirror_mode": {
    "name": "ipython",
    "version": 3
   },
   "file_extension": ".py",
   "mimetype": "text/x-python",
   "name": "python",
   "nbconvert_exporter": "python",
   "pygments_lexer": "ipython3",
   "version": "3.7.0"
  },
  "toc": {
   "base_numbering": 1,
   "nav_menu": {},
   "number_sections": true,
   "sideBar": true,
   "skip_h1_title": false,
   "title_cell": "Table of Contents",
   "title_sidebar": "Contents",
   "toc_cell": false,
   "toc_position": {},
   "toc_section_display": true,
   "toc_window_display": false
  }
 },
 "nbformat": 4,
 "nbformat_minor": 2
}